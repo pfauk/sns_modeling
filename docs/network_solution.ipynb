{
 "cells": [
  {
   "cell_type": "markdown",
   "metadata": {},
   "source": [
    "## Guide for the use of `sns_modeling` package\n",
    "\n",
    "This notebook provides an overview of how to install and use the package to build and solve separation network synthesis problems "
   ]
  },
  {
   "cell_type": "markdown",
   "metadata": {},
   "source": [
    "### 1. Setup and install\n",
    "\n",
    "Download or clone the package from the Github repo [sns_modeling](https://github.com/pfauk/sns_modeling). In a terminal, navigate to the location directory location and install the package dependencies by running: \n",
    "\n",
    "```\n",
    "pip install -r requirements.txt\n",
    "```\n",
    "\n",
    "**Important**: this package requires an installed version of Gurobi to solve the MIQCP model. It is possible to pip install Gurobi from the Python Package Index (PyPI). However, the free version comes with a trial license that will only be able to solve models of a smaller size (2,000 variables or constraints).\n",
    "\n",
    "After installing dependencies, navigate to the directory of the package and run:\n",
    "\n",
    "```\n",
    "pip install -e . \n",
    "```"
   ]
  },
  {
   "cell_type": "markdown",
   "metadata": {},
   "source": [
    "### 2. Package Structure / Overview\n",
    "\n",
    "Most of the core functionality of the separation network model is contained in `src\\thermal_coupled\\therm_dist.py` and implemented in the `build_model` function that returns a Pyomo model. The `src\\superstructure` directory contains the functionality to build the state task network (stn) for the superstructure of the problem. All problem data for a specific instance should be located in the `src\\data` directory"
   ]
  },
  {
   "cell_type": "markdown",
   "metadata": {},
   "source": [
    "### 3. Data Entry \n",
    "\n",
    "In order to build the mathematical program, the user must provide parameters for the overall system and the species present in the inlet feed. The data is parsed from spreadsheets under the `src\\data` directory. Several examples are provided and it is recommended to just copy the existing sheets and edit values to create a new problem.\n",
    "\n",
    "**System parameters**\n",
    "\n",
    "The inlet molar flow rate $F_0$"
   ]
  },
  {
   "cell_type": "markdown",
   "metadata": {},
   "source": [
    "### 4. Building a Problem\n",
    "\n",
    "Here we will show an example of building and solving a problem with a system feed with 4 components and splits between consecutive key components. Not all of the below import statements are required. Many are used to save and inspect the model after completion."
   ]
  },
  {
   "cell_type": "code",
   "execution_count": 1,
   "metadata": {},
   "outputs": [],
   "source": [
    "# import statements \n",
    "\n",
    "import logging\n",
    "import pyomo.environ as pyo\n",
    "from pyomo.util.infeasible import log_infeasible_constraints, find_infeasible_constraints\n",
    "from pyomo.util.model_size import build_model_size_report\n",
    "from utils import (\n",
    "    Data,\n",
    "    get_model_type,\n",
    "    pprint_network,\n",
    "    pprint_tasks,\n",
    "    save_model_to_file,\n",
    "    save_solution_to_file,\n",
    "    get_model_type,\n",
    "    print_constraint_type)\n",
    "from superstructure.stn import stn\n",
    "from superstructure.stn_nonconsecutive import stn_nonconsecutive\n",
    "from thermal_coupled.therm_dist import build_model"
   ]
  },
  {
   "cell_type": "markdown",
   "metadata": {},
   "source": [
    "First, you will import data from the data file (excel) located in the `src\\data\\` directory. The `Data` class from the `utils.py` script will be used to hold all the problem data and pass it as an arguement to the `build_model` function."
   ]
  },
  {
   "cell_type": "code",
   "execution_count": 17,
   "metadata": {},
   "outputs": [],
   "source": [
    "# specify number of components and data file name\n",
    "n = 4\n",
    "data_file_name = '4_comp_hydrocarbon_1.xlsx'\n",
    "\n",
    "# import problem data for system and relevant species to data object\n",
    "mixture_data = Data(data_file_name)\n",
    "\n",
    "# can inspect the Data object\n",
    "print()\n",
    "print('Inlet data')\n",
    "print('================================================================')\n",
    "print(mixture_data.system_df)\n",
    "\n",
    "print()\n",
    "print('Mixture species data')\n",
    "print('================================================================')\n",
    "print(mixture_data.species_df)"
   ]
  },
  {
   "cell_type": "markdown",
   "metadata": {},
   "source": [
    "Next, build the problem superstucture by specifying the number of components. The `superstructure\\stn.py` script contains functionality for state task network with splits between both consecutive and non-consecutive components. The class `stn` builds a tree and index sets for splits between consecutive key components. You could also choose to use `stn_nonconsecutive` imported from `superstructure\\stn_nonconsecutive.py`"
   ]
  },
  {
   "cell_type": "code",
   "execution_count": 3,
   "metadata": {},
   "outputs": [],
   "source": [
    "# build state-task network superstrucutre and associated index sets\n",
    "network_superstructure = stn(n)\n",
    "network_superstructure.generate_tree()\n",
    "network_superstructure.generate_index_sets()"
   ]
  },
  {
   "cell_type": "markdown",
   "metadata": {},
   "source": [
    "![stn consecutive splits](./images/consecutive_split_stn.png)\n",
    "\n",
    "*A state task network for a 4 component mixture with splits between **consecutive** key components*\n",
    "\n",
    "![stn nonconsecutive splits](./images/nonconsecutive_split_stn.png)\n",
    "\n",
    "*A state task network for a 4 component mixture with splits between **nonconsecutive** key components*"
   ]
  },
  {
   "cell_type": "code",
   "execution_count": 4,
   "metadata": {},
   "outputs": [
    {
     "name": "stdout",
     "output_type": "stream",
     "text": [
      "State(ABCD)\n",
      "  Task(A/BCD)\n",
      "    State(A, final=True)\n",
      "    State(BCD)\n",
      "      Task(B/CD)\n",
      "        State(B, final=True)\n",
      "        State(CD)\n",
      "          Task(C/D)\n",
      "            State(C, final=True)\n",
      "            State(D, final=True)\n",
      "      Task(BC/D)\n",
      "        State(BC)\n",
      "          Task(B/C)\n",
      "            State(B, final=True)\n",
      "            State(C, final=True)\n",
      "        State(D, final=True)\n",
      "  Task(AB/CD)\n",
      "    State(AB)\n",
      "      Task(A/B)\n",
      "        State(A, final=True)\n",
      "        State(B, final=True)\n",
      "    State(CD)\n",
      "      Task(C/D)\n",
      "        State(C, final=True)\n",
      "        State(D, final=True)\n",
      "  Task(ABC/D)\n",
      "    State(ABC)\n",
      "      Task(A/BC)\n",
      "        State(A, final=True)\n",
      "        State(BC)\n",
      "          Task(B/C)\n",
      "            State(B, final=True)\n",
      "            State(C, final=True)\n",
      "      Task(AB/C)\n",
      "        State(AB)\n",
      "          Task(A/B)\n",
      "            State(A, final=True)\n",
      "            State(B, final=True)\n",
      "        State(C, final=True)\n",
      "    State(D, final=True)\n"
     ]
    }
   ],
   "source": [
    "# can visualize the superstructure if desired\n",
    "network_superstructure.print_tree()"
   ]
  },
  {
   "cell_type": "markdown",
   "metadata": {},
   "source": [
    "Now build the Pyomo model."
   ]
  },
  {
   "cell_type": "code",
   "execution_count": 5,
   "metadata": {},
   "outputs": [
    {
     "name": "stdout",
     "output_type": "stream",
     "text": [
      "<class 'pyomo.core.base.PyomoModel.ConcreteModel'>\n"
     ]
    }
   ],
   "source": [
    "model = build_model(network_superstructure, mixture_data)\n",
    "\n",
    "# returns a Pyomo Concrete Model object\n",
    "print(type(model))"
   ]
  },
  {
   "cell_type": "markdown",
   "metadata": {},
   "source": [
    "It can sometimes be useful to inspect the model object throughout the workflow. The model that is constructed by the `build_model` function is a generalized disjunctive program (GDP). The `get_model_type` from `utils.py` allows you to see what type of mathematical model the Pyomo model object contains. Furthermore, the `save_model_to_file` function can be used to create a text file to inspect the entire model object in a pretty printed format. Saving the model for inspection is best done prior to transforming of the GDP model. By default, the pretty printed Pyomo model is saved to `thermal_coupled\\saved_models`."
   ]
  },
  {
   "cell_type": "code",
   "execution_count": 6,
   "metadata": {},
   "outputs": [],
   "source": [
    "# saving the pyomo model to a file\n",
    "save_model_to_file(model, '4_comp_model')"
   ]
  },
  {
   "cell_type": "code",
   "execution_count": 14,
   "metadata": {},
   "outputs": [],
   "source": [
    "# check the model type prior to transformation\n",
    "print(f'Model type before transformation: {get_model_type(model)}')\n",
    "\n",
    "# use of Pyomo.GDP to apply Big-M transformation\n",
    "pyo.TransformationFactory('core.logical_to_linear').apply_to(model)\n",
    "\n",
    "mbigm = pyo.TransformationFactory('gdp.bigm')\n",
    "mbigm.apply_to(model)\n",
    "\n",
    "print(f'Model type after transformation: {get_model_type(model)}')"
   ]
  },
  {
   "cell_type": "markdown",
   "metadata": {},
   "source": [
    "### 4. Solution and Output"
   ]
  },
  {
   "cell_type": "markdown",
   "metadata": {},
   "source": [
    "After applying the Big-M transformation using Pyomo.GDP's TransformationFactory, the Pyomo model is a non-convex mixed-integer quadratically constrained program (MIQCP). We can use Gurobi to solve the model. Gurobi has a number of parameters that can be passed to the solver. A [full list of solver parameters](https://www.gurobi.com/documentation/current/refman/parameters.html) can be founds on the Gurobi website. For now we recommend setting the NumericFocus and nonConvex parameters to values of 2."
   ]
  },
  {
   "cell_type": "code",
   "execution_count": 15,
   "metadata": {},
   "outputs": [],
   "source": [
    "# Pyomo solver factory\n",
    "solver = pyo.SolverFactory('gurobi')\n",
    "\n",
    "# Gurobi solver options\n",
    "solver.options = {'NumericFocus': 2,\n",
    "                  'nonConvex': 2}"
   ]
  },
  {
   "cell_type": "markdown",
   "metadata": {},
   "source": [
    "Now send the Pyomo model to the solver. The logging setup helps to troubleshoot any infeasible constraints that might exist in the model. It is not uncommon to have some infeasible log statements as a result of some of the transformation variables."
   ]
  },
  {
   "cell_type": "code",
   "execution_count": 16,
   "metadata": {},
   "outputs": [
    {
     "name": "stderr",
     "output_type": "stream",
     "text": [
      "INFO:pyomo.util.infeasible:CONSTR _pyomo_gdp_bigm_reformulation.relaxedDisjuncts[0].transformedConstraints['intermediate_var_con[C,r1]_32',(C,r1),lb]: 1.0 </= 0.9999986519279662\n",
      "INFO:pyomo.util.infeasible:CONSTR _pyomo_gdp_bigm_reformulation.relaxedDisjuncts[0].transformedConstraints['intermediate_var_con[D,r1]_34',(D,r1),lb]: 1.0 </= 0.9999987956263393\n",
      "INFO:pyomo.util.infeasible:CONSTR _pyomo_gdp_bigm_reformulation.relaxedDisjuncts[6].transformedConstraints['intermediate_var_con[D,r1]_40',(D,r1),lb]: 1.0 </= 0.9999983298108829\n",
      "INFO:pyomo.util.infeasible:CONSTR _pyomo_gdp_bigm_reformulation.relaxedDisjuncts[10].transformedConstraints['intermediate_var_con[C,r1]_40',(C,r1),lb]: 1.0 </= 0.9999985998324995\n",
      "INFO:pyomo.util.infeasible:CONSTR _pyomo_gdp_bigm_reformulation.relaxedDisjuncts[10].transformedConstraints['intermediate_var_con[C,r3]_44',(C,r3),lb]: 1.0 </= 0.9999985248596212\n"
     ]
    },
    {
     "data": {
      "text/plain": [
       "<generator object find_infeasible_constraints at 0x000001D7DEF3AA40>"
      ]
     },
     "execution_count": 16,
     "metadata": {},
     "output_type": "execute_result"
    }
   ],
   "source": [
    "results = solver.solve(model, tee=True)\n",
    "\n",
    "# Log infeasible constraints if any\n",
    "logging.basicConfig(level=logging.INFO)\n",
    "log_infeasible_constraints(model)\n",
    "find_infeasible_constraints(model)"
   ]
  },
  {
   "cell_type": "markdown",
   "metadata": {},
   "source": [
    "To see the output of the solution, just use the `print_network` function from the package utilities"
   ]
  },
  {
   "cell_type": "code",
   "execution_count": 20,
   "metadata": {},
   "outputs": [],
   "source": [
    "pprint_network(model)"
   ]
  },
  {
   "cell_type": "markdown",
   "metadata": {},
   "source": [
    "You can save the pretty printed solution output to a text file with the used of `save_solution_to_file`. The `thermal_coupled\\results` directory is the default save location."
   ]
  },
  {
   "cell_type": "code",
   "execution_count": null,
   "metadata": {},
   "outputs": [],
   "source": [
    "save_solution_to_file(model, '4_comp_solution_1')"
   ]
  }
 ],
 "metadata": {
  "kernelspec": {
   "display_name": "def_env",
   "language": "python",
   "name": "python3"
  },
  "language_info": {
   "codemirror_mode": {
    "name": "ipython",
    "version": 3
   },
   "file_extension": ".py",
   "mimetype": "text/x-python",
   "name": "python",
   "nbconvert_exporter": "python",
   "pygments_lexer": "ipython3",
   "version": "3.12.3"
  }
 },
 "nbformat": 4,
 "nbformat_minor": 2
}
