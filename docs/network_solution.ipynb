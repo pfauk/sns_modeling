{
 "cells": [
  {
   "cell_type": "markdown",
   "metadata": {},
   "source": [
    "## Guide for the use of `sns_modeling` package\n",
    "\n",
    "This notebooks provides an overview of how to install and use the package to build and solve separation network synthesis problems "
   ]
  },
  {
   "cell_type": "markdown",
   "metadata": {},
   "source": [
    "### 1. Setup and install\n",
    "\n",
    "Download or clone the package from the Github repo [sns_modeling](https://github.com/pfauk/sns_modeling). In a terminal, navigate to the location directory location and install the package dependencies by running: \n",
    "\n",
    "```\n",
    "pip install -r requirements.txt\n",
    "```\n",
    "\n",
    "**Important**: this package requires an installed version of Gurobi to solve the MIQCP model. It is possible to pip install Gurobi from the Python Package Index (PyPI). However, the free version comes with a trial license that will only be able to solve models of a smaller size (2,000 variables or constraints).\n",
    "\n",
    "After installing dependencies, navigate to the directory of the package and run:\n",
    "\n",
    "```\n",
    "pip install -e . \n",
    "```"
   ]
  },
  {
   "cell_type": "markdown",
   "metadata": {},
   "source": [
    "### 2. Data Entry \n",
    "\n",
    "In order to build the mathematical program, the user must provide parameters for the overall system and the species present in the inlet feed. The data is parses from spreadsheets under the `src\\data` directory. Several examples are provided and it is recommended to just copy the existing sheets and edit values to create a new problem.\n",
    "\n",
    "**System parameters**\n",
    "\n",
    "The inlet molar flow rate $F_0$"
   ]
  },
  {
   "cell_type": "markdown",
   "metadata": {},
   "source": [
    "### 3. Building a Problem\n",
    "\n",
    "The core functionality of the package is contained within two directories. `superstructure\\stn.py`"
   ]
  },
  {
   "cell_type": "code",
   "execution_count": null,
   "metadata": {},
   "outputs": [],
   "source": [
    "# import statements \n",
    "\n",
    "import logging\n",
    "import pyomo.environ as pyo\n",
    "from pyomo.util.infeasible import log_infeasible_constraints, find_infeasible_constraints\n",
    "from pyomo.util.model_size import build_model_size_report\n",
    "from utils import (\n",
    "    Data,\n",
    "    get_model_type,\n",
    "    pprint_network,\n",
    "    pprint_tasks,\n",
    "    save_model_to_file,\n",
    "    save_solution_to_file,\n",
    "    get_model_type,\n",
    "    print_constraint_type)\n",
    "from superstructure.stn import stn\n",
    "from thermal_coupled.therm_dist import build_model"
   ]
  },
  {
   "cell_type": "code",
   "execution_count": null,
   "metadata": {},
   "outputs": [],
   "source": [
    "# specify number of components and data file name\n",
    "n = 6\n",
    "data_file_name = '6_comp_alkanes.xlsx'\n",
    "\n",
    "# import problem data for system and relevant species to data object\n",
    "mixture_data = Data(data_file_name)\n",
    "\n",
    "# build state-task network superstrucutre and associated index sets\n",
    "network_superstructure = stn(n)\n",
    "network_superstructure.generate_tree()\n",
    "network_superstructure.generate_index_sets()\n",
    "\n",
    "model = build_model(network_superstructure, mixture_data)"
   ]
  },
  {
   "cell_type": "markdown",
   "metadata": {},
   "source": [
    "### 4. Solution and Output"
   ]
  },
  {
   "cell_type": "markdown",
   "metadata": {},
   "source": []
  }
 ],
 "metadata": {
  "kernelspec": {
   "display_name": "def_env",
   "language": "python",
   "name": "python3"
  },
  "language_info": {
   "name": "python",
   "version": "3.12.3"
  }
 },
 "nbformat": 4,
 "nbformat_minor": 2
}
